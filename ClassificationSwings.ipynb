{
 "cells": [
  {
   "cell_type": "code",
   "execution_count": 221,
   "source": [
    "import TB_Library.TB_Data as tb_dt\r\n",
    "import TB_Library.TB_Split as tb_sp\r\n",
    "import TB_Library.TB_Model as tb_md\r\n",
    "\r\n",
    "import numpy as np \r\n",
    "import tensorflow as tf\r\n",
    "from tensorflow import keras"
   ],
   "outputs": [],
   "metadata": {}
  },
  {
   "cell_type": "code",
   "execution_count": 276,
   "source": [
    "filePath = '4_210804_0_0_1_int.txt'"
   ],
   "outputs": [],
   "metadata": {}
  },
  {
   "cell_type": "code",
   "execution_count": 277,
   "source": [
    "df = tb_dt.ReadTableTennisDataToDatameta(filePath)"
   ],
   "outputs": [],
   "metadata": {}
  },
  {
   "cell_type": "code",
   "execution_count": 278,
   "source": [
    "axis9Cut = tb_sp.TableTennisDataSplit(df,   wave_c = 10)"
   ],
   "outputs": [],
   "metadata": {}
  },
  {
   "cell_type": "code",
   "execution_count": 279,
   "source": [
    "cData = axis9Cut[5]"
   ],
   "outputs": [],
   "metadata": {}
  },
  {
   "cell_type": "code",
   "execution_count": 280,
   "source": [
    "cData = np.asarray([cData])"
   ],
   "outputs": [],
   "metadata": {}
  },
  {
   "cell_type": "code",
   "execution_count": 281,
   "source": [
    "cData = keras.preprocessing.sequence.pad_sequences(cData, maxlen = 200)"
   ],
   "outputs": [],
   "metadata": {}
  },
  {
   "cell_type": "code",
   "execution_count": 282,
   "source": [
    "cData = tb_md.AxisDataMaxMin(cData)"
   ],
   "outputs": [],
   "metadata": {}
  },
  {
   "cell_type": "code",
   "execution_count": 283,
   "source": [
    "model = tb_md.GetModel()"
   ],
   "outputs": [],
   "metadata": {}
  },
  {
   "cell_type": "code",
   "execution_count": 284,
   "source": [
    "pr = model.predict(cData)[0]\r\n",
    "print(pr)\r\n",
    "print(tf.math.argmax(pr).numpy())"
   ],
   "outputs": [
    {
     "output_type": "stream",
     "name": "stdout",
     "text": [
      "[0.04921496 0.20756876 0.86834824 0.0646663  0.02813774 0.07030857\n",
      " 0.6072222  0.99021995]\n",
      "7\n"
     ]
    }
   ],
   "metadata": {}
  }
 ],
 "metadata": {
  "orig_nbformat": 4,
  "language_info": {
   "name": "python",
   "version": "3.8.11",
   "mimetype": "text/x-python",
   "codemirror_mode": {
    "name": "ipython",
    "version": 3
   },
   "pygments_lexer": "ipython3",
   "nbconvert_exporter": "python",
   "file_extension": ".py"
  },
  "kernelspec": {
   "name": "python3",
   "display_name": "Python 3.8.11 64-bit ('tb_py': conda)"
  },
  "interpreter": {
   "hash": "6d64c901fabb8f42e58faa6211fbce25933580340e108fda67530a13a3b377aa"
  }
 },
 "nbformat": 4,
 "nbformat_minor": 2
}