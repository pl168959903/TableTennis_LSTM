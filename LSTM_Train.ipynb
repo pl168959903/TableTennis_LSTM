{
 "cells": [
  {
   "cell_type": "code",
   "execution_count": 1,
   "source": [
    "import TB_Library.TB_Data as tb_dt\r\n",
    "import TB_Library.TB_Model as tb_md\r\n",
    "import TB_Library.TB_Split as tb_sp\r\n",
    "\r\n",
    "import pandas as pd"
   ],
   "outputs": [],
   "metadata": {}
  },
  {
   "cell_type": "code",
   "execution_count": 2,
   "source": [
    "# 路徑\r\n",
    "trainDataRootPath = './train_data/'\r\n",
    "validDataRootPath = './valid_data/'"
   ],
   "outputs": [],
   "metadata": {}
  },
  {
   "cell_type": "code",
   "execution_count": 3,
   "source": [
    "# 根據資料夾名稱，取出原始資料路徑和類別\r\n",
    "folderDf = tb_dt.GetPathAndClassDfFromRoot(trainDataRootPath)"
   ],
   "outputs": [],
   "metadata": {}
  },
  {
   "cell_type": "code",
   "execution_count": 4,
   "source": [
    "modelDf = tb_md.GetModelTrainDf()"
   ],
   "outputs": [],
   "metadata": {}
  },
  {
   "cell_type": "code",
   "execution_count": 5,
   "source": [
    "if modelDf is None:\r\n",
    "    modelDf = pd.DataFrame()\r\n",
    "    trainDf = folderDf\r\n",
    "else:\r\n",
    "    trainDf = tb_dt.GetDfDifference(folderDf, modelDf, 'path')"
   ],
   "outputs": [],
   "metadata": {}
  },
  {
   "cell_type": "code",
   "execution_count": 6,
   "source": [
    "if trainDf.empty:\r\n",
    "    exit()"
   ],
   "outputs": [],
   "metadata": {}
  },
  {
   "cell_type": "code",
   "execution_count": 7,
   "source": [
    "# 分割檔案資料\r\n",
    "trainDataList, paramDf = tb_sp.SplitDataFromPathDf(trainDf, 10)"
   ],
   "outputs": [
    {
     "output_type": "stream",
     "name": "stderr",
     "text": [
      "100%|██████████| 40/40 [00:04<00:00,  8.85it/s]\n"
     ]
    }
   ],
   "metadata": {}
  },
  {
   "cell_type": "code",
   "execution_count": 8,
   "source": [
    "# 轉換成訓練資料\r\n",
    "xtrain , ytrain = tb_md.GetTrainData(trainDataList, paramDf, 200)"
   ],
   "outputs": [],
   "metadata": {}
  },
  {
   "cell_type": "code",
   "execution_count": 9,
   "source": [
    "#--------------------------------------------------------------------------------------\r\n",
    "# 模型建立"
   ],
   "outputs": [],
   "metadata": {}
  },
  {
   "cell_type": "code",
   "execution_count": 10,
   "source": [
    "model = tb_md.GetModel()\r\n",
    "if model is None:\r\n",
    "    model = tb_md.CreatModel(sample=200,feature=9,class_n=8)"
   ],
   "outputs": [
    {
     "output_type": "stream",
     "name": "stdout",
     "text": [
      "Model: \"model\"\n",
      "_________________________________________________________________\n",
      "Layer (type)                 Output Shape              Param #   \n",
      "=================================================================\n",
      "input_1 (InputLayer)         [(None, 200, 9)]          0         \n",
      "_________________________________________________________________\n",
      "bidirectional (Bidirectional (None, 64)                10752     \n",
      "_________________________________________________________________\n",
      "dense (Dense)                (None, 8)                 520       \n",
      "=================================================================\n",
      "Total params: 11,272\n",
      "Trainable params: 11,272\n",
      "Non-trainable params: 0\n",
      "_________________________________________________________________\n"
     ]
    }
   ],
   "metadata": {}
  },
  {
   "cell_type": "code",
   "execution_count": 11,
   "source": [
    "trainData, valData = tb_md.SplitTrainDataAndRandom(xtrain, ytrain, 20)"
   ],
   "outputs": [
    {
     "output_type": "stream",
     "name": "stdout",
     "text": [
      "0.2\n"
     ]
    }
   ],
   "metadata": {}
  },
  {
   "cell_type": "code",
   "execution_count": 12,
   "source": [
    "history = model.fit(trainData[0], trainData[1], batch_size=32, epochs=30, validation_data=(valData[0], valData[1]))"
   ],
   "outputs": [
    {
     "output_type": "stream",
     "name": "stdout",
     "text": [
      "Epoch 1/30\n",
      "8/8 [==============================] - 2s 87ms/step - loss: 2.0250 - accuracy: 0.2266 - val_loss: 1.8780 - val_accuracy: 0.4688\n",
      "Epoch 2/30\n",
      "8/8 [==============================] - 0s 26ms/step - loss: 1.7710 - accuracy: 0.4883 - val_loss: 1.6468 - val_accuracy: 0.4531\n",
      "Epoch 3/30\n",
      "8/8 [==============================] - 0s 26ms/step - loss: 1.5416 - accuracy: 0.5781 - val_loss: 1.4257 - val_accuracy: 0.6406\n",
      "Epoch 4/30\n",
      "8/8 [==============================] - 0s 26ms/step - loss: 1.3076 - accuracy: 0.7266 - val_loss: 1.1870 - val_accuracy: 0.6875\n",
      "Epoch 5/30\n",
      "8/8 [==============================] - 0s 26ms/step - loss: 1.0268 - accuracy: 0.7266 - val_loss: 0.8873 - val_accuracy: 0.6562\n",
      "Epoch 6/30\n",
      "8/8 [==============================] - 0s 26ms/step - loss: 0.7401 - accuracy: 0.7578 - val_loss: 0.7532 - val_accuracy: 0.7188\n",
      "Epoch 7/30\n",
      "8/8 [==============================] - 0s 27ms/step - loss: 0.5761 - accuracy: 0.8594 - val_loss: 0.6178 - val_accuracy: 0.8125\n",
      "Epoch 8/30\n",
      "8/8 [==============================] - 0s 27ms/step - loss: 0.4584 - accuracy: 0.8750 - val_loss: 0.4835 - val_accuracy: 0.8594\n",
      "Epoch 9/30\n",
      "8/8 [==============================] - 0s 26ms/step - loss: 0.4200 - accuracy: 0.8711 - val_loss: 0.4798 - val_accuracy: 0.8281\n",
      "Epoch 10/30\n",
      "8/8 [==============================] - 0s 26ms/step - loss: 0.3501 - accuracy: 0.8984 - val_loss: 0.4182 - val_accuracy: 0.8594\n",
      "Epoch 11/30\n",
      "8/8 [==============================] - 0s 26ms/step - loss: 0.2918 - accuracy: 0.9258 - val_loss: 0.3258 - val_accuracy: 0.8906\n",
      "Epoch 12/30\n",
      "8/8 [==============================] - 0s 26ms/step - loss: 0.2740 - accuracy: 0.9180 - val_loss: 0.2767 - val_accuracy: 0.9219\n",
      "Epoch 13/30\n",
      "8/8 [==============================] - 0s 26ms/step - loss: 0.2941 - accuracy: 0.8867 - val_loss: 0.3505 - val_accuracy: 0.9062\n",
      "Epoch 14/30\n",
      "8/8 [==============================] - 0s 26ms/step - loss: 0.2301 - accuracy: 0.9805 - val_loss: 0.2669 - val_accuracy: 0.9531\n",
      "Epoch 15/30\n",
      "8/8 [==============================] - 0s 25ms/step - loss: 0.1749 - accuracy: 0.9531 - val_loss: 0.4170 - val_accuracy: 0.7969\n",
      "Epoch 16/30\n",
      "8/8 [==============================] - 0s 26ms/step - loss: 0.1608 - accuracy: 0.9531 - val_loss: 0.2342 - val_accuracy: 0.9062\n",
      "Epoch 17/30\n",
      "8/8 [==============================] - 0s 26ms/step - loss: 0.1467 - accuracy: 0.9414 - val_loss: 0.1726 - val_accuracy: 0.9219\n",
      "Epoch 18/30\n",
      "8/8 [==============================] - 0s 25ms/step - loss: 0.0941 - accuracy: 0.9844 - val_loss: 0.1816 - val_accuracy: 0.9062\n",
      "Epoch 19/30\n",
      "8/8 [==============================] - 0s 26ms/step - loss: 0.0885 - accuracy: 0.9766 - val_loss: 0.1242 - val_accuracy: 0.9531\n",
      "Epoch 20/30\n",
      "8/8 [==============================] - 0s 26ms/step - loss: 0.0872 - accuracy: 0.9688 - val_loss: 0.1760 - val_accuracy: 0.9062\n",
      "Epoch 21/30\n",
      "8/8 [==============================] - 0s 27ms/step - loss: 0.0679 - accuracy: 0.9883 - val_loss: 0.0884 - val_accuracy: 0.9688\n",
      "Epoch 22/30\n",
      "8/8 [==============================] - 0s 26ms/step - loss: 0.0715 - accuracy: 0.9844 - val_loss: 0.4383 - val_accuracy: 0.8125\n",
      "Epoch 23/30\n",
      "8/8 [==============================] - 0s 26ms/step - loss: 0.1608 - accuracy: 0.9023 - val_loss: 0.2609 - val_accuracy: 0.8438\n",
      "Epoch 24/30\n",
      "8/8 [==============================] - 0s 26ms/step - loss: 0.2704 - accuracy: 0.8984 - val_loss: 0.3106 - val_accuracy: 0.8594\n",
      "Epoch 25/30\n",
      "8/8 [==============================] - 0s 26ms/step - loss: 0.1967 - accuracy: 0.9609 - val_loss: 0.1302 - val_accuracy: 0.9688\n",
      "Epoch 26/30\n",
      "8/8 [==============================] - 0s 26ms/step - loss: 0.0923 - accuracy: 0.9844 - val_loss: 0.1189 - val_accuracy: 0.9844\n",
      "Epoch 27/30\n",
      "8/8 [==============================] - 0s 26ms/step - loss: 0.0663 - accuracy: 0.9883 - val_loss: 0.1475 - val_accuracy: 0.9531\n",
      "Epoch 28/30\n",
      "8/8 [==============================] - 0s 25ms/step - loss: 0.1236 - accuracy: 0.9727 - val_loss: 0.2033 - val_accuracy: 0.9375\n",
      "Epoch 29/30\n",
      "8/8 [==============================] - 0s 26ms/step - loss: 0.1339 - accuracy: 0.9531 - val_loss: 0.1213 - val_accuracy: 0.9688\n",
      "Epoch 30/30\n",
      "8/8 [==============================] - 0s 26ms/step - loss: 0.1180 - accuracy: 0.9570 - val_loss: 0.0938 - val_accuracy: 0.9688\n"
     ]
    }
   ],
   "metadata": {}
  },
  {
   "cell_type": "code",
   "execution_count": 13,
   "source": [
    "import numpy as np\r\n",
    "import tensorflow as tf\r\n",
    "index = 220\r\n",
    "\r\n",
    "testx = np.asarray([xtrain[index]])\r\n",
    "testy = ytrain[index]\r\n",
    "\r\n",
    "print(\"NO.%d Predict Result is Class \" % index, end = '')\r\n",
    "print(tf.math.argmax(model.predict(testx)[0]).numpy())\r\n",
    "\r\n",
    "print(\"Compare with true result. The true result is %d\" % int(testy))"
   ],
   "outputs": [
    {
     "output_type": "stream",
     "name": "stdout",
     "text": [
      "NO.220 Predict Result is Class 6\n",
      "Compare with true result. The true result is 6\n"
     ]
    }
   ],
   "metadata": {}
  },
  {
   "cell_type": "code",
   "execution_count": 14,
   "source": [
    "modelDf = modelDf.append(trainDf)\r\n",
    "tb_md.OutPutModelAndTrainList(model, modelDf)"
   ],
   "outputs": [],
   "metadata": {}
  }
 ],
 "metadata": {
  "kernelspec": {
   "name": "python3",
   "display_name": "Python 3.8.11 64-bit ('tb_py': conda)"
  },
  "language_info": {
   "codemirror_mode": {
    "name": "ipython",
    "version": 3
   },
   "file_extension": ".py",
   "mimetype": "text/x-python",
   "name": "python",
   "nbconvert_exporter": "python",
   "pygments_lexer": "ipython3",
   "version": "3.8.11"
  },
  "interpreter": {
   "hash": "6d64c901fabb8f42e58faa6211fbce25933580340e108fda67530a13a3b377aa"
  }
 },
 "nbformat": 4,
 "nbformat_minor": 5
}