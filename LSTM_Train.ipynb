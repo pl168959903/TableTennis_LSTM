{
 "cells": [
  {
   "cell_type": "code",
   "execution_count": 1,
   "source": [
    "import TB_Library.TB_Data as tb_dt\r\n",
    "import TB_Library.TB_Model as tb_md\r\n",
    "import TB_Library.TB_Split as tb_sp\r\n",
    "\r\n",
    "import pandas as pd"
   ],
   "outputs": [],
   "metadata": {}
  },
  {
   "cell_type": "code",
   "execution_count": 2,
   "source": [
    "# 路徑\r\n",
    "trainDataRootPath = './train_data/'\r\n",
    "validDataRootPath = './valid_data/'"
   ],
   "outputs": [],
   "metadata": {}
  },
  {
   "cell_type": "code",
   "execution_count": 3,
   "source": [
    "# 根據資料夾名稱，取出原始資料路徑和類別\r\n",
    "folderDf = tb_dt.GetPathAndClassDfFromRoot(trainDataRootPath)"
   ],
   "outputs": [],
   "metadata": {}
  },
  {
   "cell_type": "code",
   "execution_count": 4,
   "source": [
    "modelDf = tb_md.GetModelTrainDf()"
   ],
   "outputs": [],
   "metadata": {}
  },
  {
   "cell_type": "code",
   "execution_count": 5,
   "source": [
    "if modelDf is None:\r\n",
    "    modelDf = pd.DataFrame()\r\n",
    "    trainDf = folderDf\r\n",
    "else:\r\n",
    "    trainDf = tb_dt.GetDfDifference(folderDf, modelDf, 'path')"
   ],
   "outputs": [],
   "metadata": {}
  },
  {
   "cell_type": "code",
   "execution_count": 6,
   "source": [
    "if trainDf.empty:\r\n",
    "    exit()"
   ],
   "outputs": [],
   "metadata": {}
  },
  {
   "cell_type": "code",
   "execution_count": 7,
   "source": [
    "# 分割檔案資料\r\n",
    "trainDataList, paramDf = tb_sp.SplitDataFromPathDf(trainDf, 10)"
   ],
   "outputs": [
    {
     "output_type": "stream",
     "name": "stderr",
     "text": [
      "100%|██████████| 41/41 [00:04<00:00,  8.89it/s]\n"
     ]
    }
   ],
   "metadata": {}
  },
  {
   "cell_type": "code",
   "execution_count": 8,
   "source": [
    "# 轉換成訓練資料\r\n",
    "xtrain , ytrain = tb_md.GetTrainData(trainDataList, paramDf)"
   ],
   "outputs": [],
   "metadata": {}
  },
  {
   "cell_type": "code",
   "execution_count": 9,
   "source": [
    "#--------------------------------------------------------------------------------------\r\n",
    "# 模型建立"
   ],
   "outputs": [],
   "metadata": {}
  },
  {
   "cell_type": "code",
   "execution_count": 10,
   "source": [
    "model = tb_md.GetModel()\r\n",
    "if model is None:\r\n",
    "    model = tb_md.CreatModel(sample=101,feature=9,class_n=8)"
   ],
   "outputs": [
    {
     "output_type": "stream",
     "name": "stdout",
     "text": [
      "Model: \"model\"\n",
      "_________________________________________________________________\n",
      "Layer (type)                 Output Shape              Param #   \n",
      "=================================================================\n",
      "input_1 (InputLayer)         [(None, 101, 9)]          0         \n",
      "_________________________________________________________________\n",
      "bidirectional (Bidirectional (None, 64)                10752     \n",
      "_________________________________________________________________\n",
      "dense (Dense)                (None, 8)                 520       \n",
      "=================================================================\n",
      "Total params: 11,272\n",
      "Trainable params: 11,272\n",
      "Non-trainable params: 0\n",
      "_________________________________________________________________\n"
     ]
    }
   ],
   "metadata": {}
  },
  {
   "cell_type": "code",
   "execution_count": 11,
   "source": [
    "trainData, valData = tb_md.SplitTrainDataAndRandom(xtrain, ytrain, 20)"
   ],
   "outputs": [
    {
     "output_type": "stream",
     "name": "stdout",
     "text": [
      "0.2\n"
     ]
    }
   ],
   "metadata": {}
  },
  {
   "cell_type": "code",
   "execution_count": 12,
   "source": [
    "history = model.fit(trainData[0], trainData[1], batch_size=32, epochs=30, validation_data=(valData[0], valData[1]))"
   ],
   "outputs": [
    {
     "output_type": "stream",
     "name": "stdout",
     "text": [
      "Epoch 1/30\n",
      "9/9 [==============================] - 3s 106ms/step - loss: 1.9618 - accuracy: 0.1985 - val_loss: 1.7520 - val_accuracy: 0.4242\n",
      "Epoch 2/30\n",
      "9/9 [==============================] - 0s 24ms/step - loss: 1.6457 - accuracy: 0.4885 - val_loss: 1.5022 - val_accuracy: 0.4394\n",
      "Epoch 3/30\n",
      "9/9 [==============================] - 0s 25ms/step - loss: 1.4156 - accuracy: 0.5954 - val_loss: 1.3057 - val_accuracy: 0.6364\n",
      "Epoch 4/30\n",
      "9/9 [==============================] - 0s 25ms/step - loss: 1.2097 - accuracy: 0.6260 - val_loss: 1.0726 - val_accuracy: 0.6061\n",
      "Epoch 5/30\n",
      "9/9 [==============================] - 0s 23ms/step - loss: 0.9652 - accuracy: 0.6450 - val_loss: 0.8318 - val_accuracy: 0.5909\n",
      "Epoch 6/30\n",
      "9/9 [==============================] - 0s 23ms/step - loss: 0.7858 - accuracy: 0.5573 - val_loss: 0.7330 - val_accuracy: 0.7727\n",
      "Epoch 7/30\n",
      "9/9 [==============================] - 0s 24ms/step - loss: 0.7341 - accuracy: 0.6412 - val_loss: 0.6945 - val_accuracy: 0.5758\n",
      "Epoch 8/30\n",
      "9/9 [==============================] - 0s 25ms/step - loss: 0.6608 - accuracy: 0.7061 - val_loss: 0.6842 - val_accuracy: 0.8636\n",
      "Epoch 9/30\n",
      "9/9 [==============================] - 0s 23ms/step - loss: 0.6029 - accuracy: 0.7824 - val_loss: 0.5642 - val_accuracy: 0.6818\n",
      "Epoch 10/30\n",
      "9/9 [==============================] - 0s 23ms/step - loss: 0.5371 - accuracy: 0.7863 - val_loss: 0.4510 - val_accuracy: 0.7879\n",
      "Epoch 11/30\n",
      "9/9 [==============================] - 0s 26ms/step - loss: 0.4823 - accuracy: 0.7366 - val_loss: 0.4223 - val_accuracy: 0.8788\n",
      "Epoch 12/30\n",
      "9/9 [==============================] - 0s 25ms/step - loss: 0.4103 - accuracy: 0.8817 - val_loss: 0.3848 - val_accuracy: 0.9091\n",
      "Epoch 13/30\n",
      "9/9 [==============================] - 0s 24ms/step - loss: 0.3868 - accuracy: 0.8931 - val_loss: 0.3653 - val_accuracy: 0.8939\n",
      "Epoch 14/30\n",
      "9/9 [==============================] - 0s 35ms/step - loss: 0.3388 - accuracy: 0.8893 - val_loss: 0.2976 - val_accuracy: 0.9545\n",
      "Epoch 15/30\n",
      "9/9 [==============================] - 0s 27ms/step - loss: 0.2935 - accuracy: 0.9313 - val_loss: 0.2369 - val_accuracy: 0.9848\n",
      "Epoch 16/30\n",
      "9/9 [==============================] - 0s 24ms/step - loss: 0.2726 - accuracy: 0.9198 - val_loss: 0.2626 - val_accuracy: 0.9242\n",
      "Epoch 17/30\n",
      "9/9 [==============================] - 0s 24ms/step - loss: 0.2208 - accuracy: 0.9504 - val_loss: 0.2388 - val_accuracy: 0.9091\n",
      "Epoch 18/30\n",
      "9/9 [==============================] - 0s 25ms/step - loss: 0.2310 - accuracy: 0.9198 - val_loss: 0.1805 - val_accuracy: 0.9394\n",
      "Epoch 19/30\n",
      "9/9 [==============================] - 0s 25ms/step - loss: 0.1727 - accuracy: 0.9656 - val_loss: 0.1840 - val_accuracy: 0.9394\n",
      "Epoch 20/30\n",
      "9/9 [==============================] - 0s 25ms/step - loss: 0.1707 - accuracy: 0.9466 - val_loss: 0.1866 - val_accuracy: 0.9242\n",
      "Epoch 21/30\n",
      "9/9 [==============================] - 0s 24ms/step - loss: 0.1532 - accuracy: 0.9427 - val_loss: 0.1369 - val_accuracy: 0.9848\n",
      "Epoch 22/30\n",
      "9/9 [==============================] - 0s 24ms/step - loss: 0.1170 - accuracy: 0.9847 - val_loss: 0.1727 - val_accuracy: 0.9545\n",
      "Epoch 23/30\n",
      "9/9 [==============================] - 0s 23ms/step - loss: 0.0901 - accuracy: 0.9771 - val_loss: 0.0879 - val_accuracy: 0.9848\n",
      "Epoch 24/30\n",
      "9/9 [==============================] - 0s 25ms/step - loss: 0.0899 - accuracy: 0.9809 - val_loss: 0.1032 - val_accuracy: 0.9848\n",
      "Epoch 25/30\n",
      "9/9 [==============================] - 0s 25ms/step - loss: 0.0803 - accuracy: 0.9809 - val_loss: 0.1226 - val_accuracy: 0.9697\n",
      "Epoch 26/30\n",
      "9/9 [==============================] - 0s 25ms/step - loss: 0.0606 - accuracy: 0.9885 - val_loss: 0.1144 - val_accuracy: 0.9697\n",
      "Epoch 27/30\n",
      "9/9 [==============================] - 0s 25ms/step - loss: 0.0486 - accuracy: 1.0000 - val_loss: 0.0624 - val_accuracy: 0.9848\n",
      "Epoch 28/30\n",
      "9/9 [==============================] - 0s 25ms/step - loss: 0.0554 - accuracy: 0.9885 - val_loss: 0.0948 - val_accuracy: 0.9848\n",
      "Epoch 29/30\n",
      "9/9 [==============================] - 0s 23ms/step - loss: 0.0640 - accuracy: 0.9885 - val_loss: 0.1821 - val_accuracy: 0.9394\n",
      "Epoch 30/30\n",
      "9/9 [==============================] - 0s 24ms/step - loss: 0.1053 - accuracy: 0.9580 - val_loss: 0.1529 - val_accuracy: 0.9545\n"
     ]
    }
   ],
   "metadata": {}
  },
  {
   "cell_type": "code",
   "execution_count": 13,
   "source": [
    "# index = 220\r\n",
    "\r\n",
    "# testx = np.asarray([xtrain[index]])\r\n",
    "# testy = ytrain[index]\r\n",
    "\r\n",
    "# print(\"NO.%d Predict Result is Class \" % index, end = '')\r\n",
    "# print(tf.math.argmax(model.predict(testx)[0]).numpy())\r\n",
    "\r\n",
    "# print(\"Compare with true result. The true result is %d\" % int(testy))"
   ],
   "outputs": [],
   "metadata": {}
  },
  {
   "cell_type": "code",
   "execution_count": 14,
   "source": [
    "modelDf = modelDf.append(trainDf)\r\n",
    "tb_md.OutPutModelAndTrainList(model, modelDf)"
   ],
   "outputs": [],
   "metadata": {}
  }
 ],
 "metadata": {
  "kernelspec": {
   "name": "python3",
   "display_name": "Python 3.8.11 64-bit ('tb_py': conda)"
  },
  "language_info": {
   "codemirror_mode": {
    "name": "ipython",
    "version": 3
   },
   "file_extension": ".py",
   "mimetype": "text/x-python",
   "name": "python",
   "nbconvert_exporter": "python",
   "pygments_lexer": "ipython3",
   "version": "3.8.11"
  },
  "interpreter": {
   "hash": "6d64c901fabb8f42e58faa6211fbce25933580340e108fda67530a13a3b377aa"
  }
 },
 "nbformat": 4,
 "nbformat_minor": 5
}