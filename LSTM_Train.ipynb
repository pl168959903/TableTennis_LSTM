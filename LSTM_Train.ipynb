{
 "cells": [
  {
   "cell_type": "code",
   "execution_count": 1,
   "source": [
    "import TB_Library.TB_Data as tb_dt\r\n",
    "import TB_Library.TB_Model as tb_md\r\n",
    "import TB_Library.TB_Split as tb_sp\r\n",
    "\r\n",
    "import pandas as pd"
   ],
   "outputs": [],
   "metadata": {}
  },
  {
   "cell_type": "code",
   "execution_count": 2,
   "source": [
    "# 路徑\r\n",
    "trainDataRootPath = './train_data/'\r\n",
    "validDataRootPath = './valid_data/'"
   ],
   "outputs": [],
   "metadata": {}
  },
  {
   "cell_type": "code",
   "execution_count": 3,
   "source": [
    "# 根據資料夾名稱，取出原始資料路徑和類別\r\n",
    "folderDf = tb_dt.GetPathAndClassDfFromRoot(trainDataRootPath)"
   ],
   "outputs": [],
   "metadata": {}
  },
  {
   "cell_type": "code",
   "execution_count": 4,
   "source": [
    "modelDf = tb_md.GetModelTrainDf()"
   ],
   "outputs": [],
   "metadata": {}
  },
  {
   "cell_type": "code",
   "execution_count": 5,
   "source": [
    "if modelDf is None:\r\n",
    "    modelDf = pd.DataFrame()\r\n",
    "    trainDf = folderDf\r\n",
    "else:\r\n",
    "    trainDf = tb_dt.GetDfDifference(folderDf, modelDf, 'path')"
   ],
   "outputs": [],
   "metadata": {}
  },
  {
   "cell_type": "code",
   "execution_count": 6,
   "source": [
    "if trainDf.empty:\r\n",
    "    exit()"
   ],
   "outputs": [],
   "metadata": {}
  },
  {
   "cell_type": "code",
   "execution_count": 7,
   "source": [
    "# 分割檔案資料\r\n",
    "trainDataList, paramDf = tb_sp.SplitDataFromPathDf(trainDf, 10)"
   ],
   "outputs": [
    {
     "output_type": "stream",
     "name": "stderr",
     "text": [
      "100%|██████████| 40/40 [00:04<00:00,  9.26it/s]\n"
     ]
    }
   ],
   "metadata": {}
  },
  {
   "cell_type": "code",
   "execution_count": 8,
   "source": [
    "# 轉換成訓練資料\r\n",
    "xtrain , ytrain = tb_md.GetTrainData(trainDataList, paramDf, 200)"
   ],
   "outputs": [],
   "metadata": {}
  },
  {
   "cell_type": "code",
   "execution_count": 9,
   "source": [
    "#--------------------------------------------------------------------------------------\r\n",
    "# 模型建立"
   ],
   "outputs": [],
   "metadata": {}
  },
  {
   "cell_type": "code",
   "execution_count": 10,
   "source": [
    "model = tb_md.GetModel()\r\n",
    "if model is None:\r\n",
    "    model = tb_md.CreatModel(sample=200,feature=9,class_n=8)"
   ],
   "outputs": [
    {
     "output_type": "stream",
     "name": "stdout",
     "text": [
      "Model: \"model\"\n",
      "_________________________________________________________________\n",
      "Layer (type)                 Output Shape              Param #   \n",
      "=================================================================\n",
      "input_1 (InputLayer)         [(None, 200, 9)]          0         \n",
      "_________________________________________________________________\n",
      "bidirectional (Bidirectional (None, 64)                10752     \n",
      "_________________________________________________________________\n",
      "dense (Dense)                (None, 8)                 520       \n",
      "=================================================================\n",
      "Total params: 11,272\n",
      "Trainable params: 11,272\n",
      "Non-trainable params: 0\n",
      "_________________________________________________________________\n"
     ]
    }
   ],
   "metadata": {}
  },
  {
   "cell_type": "code",
   "execution_count": 11,
   "source": [
    "trainData, valData = tb_md.SplitTrainDataAndRandom(xtrain, ytrain, 20)"
   ],
   "outputs": [
    {
     "output_type": "stream",
     "name": "stdout",
     "text": [
      "0.2\n"
     ]
    }
   ],
   "metadata": {}
  },
  {
   "cell_type": "code",
   "execution_count": 12,
   "source": [
    "history = model.fit(trainData[0], trainData[1], batch_size=32, epochs=100, validation_data=(valData[0], valData[1]))"
   ],
   "outputs": [
    {
     "output_type": "stream",
     "name": "stdout",
     "text": [
      "Epoch 1/100\n",
      "10/10 [==============================] - 2s 72ms/step - loss: 2.0759 - accuracy: 0.1625 - val_loss: 1.8151 - val_accuracy: 0.5625\n",
      "Epoch 2/100\n",
      "10/10 [==============================] - 0s 25ms/step - loss: 1.6671 - accuracy: 0.5375 - val_loss: 1.4711 - val_accuracy: 0.5875\n",
      "Epoch 3/100\n",
      "10/10 [==============================] - 0s 25ms/step - loss: 1.3619 - accuracy: 0.5437 - val_loss: 1.1944 - val_accuracy: 0.5625\n",
      "Epoch 4/100\n",
      "10/10 [==============================] - 0s 25ms/step - loss: 1.0914 - accuracy: 0.6562 - val_loss: 0.9285 - val_accuracy: 0.8250\n",
      "Epoch 5/100\n",
      "10/10 [==============================] - 0s 25ms/step - loss: 0.8241 - accuracy: 0.9219 - val_loss: 0.6843 - val_accuracy: 0.9250\n",
      "Epoch 6/100\n",
      "10/10 [==============================] - 0s 25ms/step - loss: 0.6063 - accuracy: 0.9563 - val_loss: 0.5044 - val_accuracy: 0.9750\n",
      "Epoch 7/100\n",
      "10/10 [==============================] - 0s 25ms/step - loss: 0.4334 - accuracy: 0.9656 - val_loss: 0.3189 - val_accuracy: 0.9625\n",
      "Epoch 8/100\n",
      "10/10 [==============================] - 0s 25ms/step - loss: 0.2938 - accuracy: 0.9781 - val_loss: 0.2071 - val_accuracy: 0.9875\n",
      "Epoch 9/100\n",
      "10/10 [==============================] - 0s 25ms/step - loss: 0.2029 - accuracy: 0.9781 - val_loss: 0.1602 - val_accuracy: 1.0000\n",
      "Epoch 10/100\n",
      "10/10 [==============================] - 0s 25ms/step - loss: 0.1619 - accuracy: 0.9844 - val_loss: 0.1239 - val_accuracy: 0.9875\n",
      "Epoch 11/100\n",
      "10/10 [==============================] - 0s 25ms/step - loss: 0.1087 - accuracy: 0.9906 - val_loss: 0.0635 - val_accuracy: 1.0000\n",
      "Epoch 12/100\n",
      "10/10 [==============================] - 0s 25ms/step - loss: 0.1087 - accuracy: 0.9812 - val_loss: 0.1595 - val_accuracy: 0.9500\n",
      "Epoch 13/100\n",
      "10/10 [==============================] - 0s 25ms/step - loss: 0.1280 - accuracy: 0.9781 - val_loss: 0.0794 - val_accuracy: 0.9875\n",
      "Epoch 14/100\n",
      "10/10 [==============================] - 0s 25ms/step - loss: 0.1100 - accuracy: 0.9656 - val_loss: 0.0854 - val_accuracy: 0.9875\n",
      "Epoch 15/100\n",
      "10/10 [==============================] - 0s 25ms/step - loss: 0.0881 - accuracy: 0.9844 - val_loss: 0.0516 - val_accuracy: 1.0000\n",
      "Epoch 16/100\n",
      "10/10 [==============================] - 0s 25ms/step - loss: 0.0631 - accuracy: 0.9969 - val_loss: 0.0411 - val_accuracy: 1.0000\n",
      "Epoch 17/100\n",
      "10/10 [==============================] - 0s 26ms/step - loss: 0.0495 - accuracy: 1.0000 - val_loss: 0.0389 - val_accuracy: 1.0000\n",
      "Epoch 18/100\n",
      "10/10 [==============================] - 0s 25ms/step - loss: 0.0894 - accuracy: 0.9906 - val_loss: 0.0553 - val_accuracy: 1.0000\n",
      "Epoch 19/100\n",
      "10/10 [==============================] - 0s 25ms/step - loss: 0.1589 - accuracy: 0.9500 - val_loss: 0.0776 - val_accuracy: 0.9875\n",
      "Epoch 20/100\n",
      "10/10 [==============================] - 0s 26ms/step - loss: 0.1064 - accuracy: 0.9719 - val_loss: 0.0732 - val_accuracy: 0.9875\n",
      "Epoch 21/100\n",
      "10/10 [==============================] - 0s 25ms/step - loss: 0.0975 - accuracy: 0.9937 - val_loss: 0.0570 - val_accuracy: 1.0000\n",
      "Epoch 22/100\n",
      "10/10 [==============================] - 0s 25ms/step - loss: 0.0492 - accuracy: 1.0000 - val_loss: 0.0425 - val_accuracy: 1.0000\n",
      "Epoch 23/100\n",
      "10/10 [==============================] - 0s 25ms/step - loss: 0.0571 - accuracy: 0.9906 - val_loss: 0.0325 - val_accuracy: 1.0000\n",
      "Epoch 24/100\n",
      "10/10 [==============================] - 0s 25ms/step - loss: 0.0400 - accuracy: 0.9906 - val_loss: 0.0236 - val_accuracy: 1.0000\n",
      "Epoch 25/100\n",
      "10/10 [==============================] - 0s 25ms/step - loss: 0.0268 - accuracy: 1.0000 - val_loss: 0.0219 - val_accuracy: 1.0000\n",
      "Epoch 26/100\n",
      "10/10 [==============================] - 0s 25ms/step - loss: 0.0211 - accuracy: 1.0000 - val_loss: 0.0173 - val_accuracy: 1.0000\n",
      "Epoch 27/100\n",
      "10/10 [==============================] - 0s 25ms/step - loss: 0.0178 - accuracy: 1.0000 - val_loss: 0.0153 - val_accuracy: 1.0000\n",
      "Epoch 28/100\n",
      "10/10 [==============================] - 0s 25ms/step - loss: 0.0156 - accuracy: 1.0000 - val_loss: 0.0136 - val_accuracy: 1.0000\n",
      "Epoch 29/100\n",
      "10/10 [==============================] - 0s 25ms/step - loss: 0.0152 - accuracy: 1.0000 - val_loss: 0.0167 - val_accuracy: 1.0000\n",
      "Epoch 30/100\n",
      "10/10 [==============================] - 0s 25ms/step - loss: 0.0232 - accuracy: 0.9969 - val_loss: 0.0152 - val_accuracy: 1.0000\n",
      "Epoch 31/100\n",
      "10/10 [==============================] - 0s 25ms/step - loss: 0.0205 - accuracy: 0.9969 - val_loss: 0.0129 - val_accuracy: 1.0000\n",
      "Epoch 32/100\n",
      "10/10 [==============================] - 0s 25ms/step - loss: 0.0245 - accuracy: 0.9969 - val_loss: 0.0124 - val_accuracy: 1.0000\n",
      "Epoch 33/100\n",
      "10/10 [==============================] - 0s 25ms/step - loss: 0.0165 - accuracy: 1.0000 - val_loss: 0.0124 - val_accuracy: 1.0000\n",
      "Epoch 34/100\n",
      "10/10 [==============================] - 0s 25ms/step - loss: 0.0212 - accuracy: 0.9969 - val_loss: 0.0161 - val_accuracy: 1.0000\n",
      "Epoch 35/100\n",
      "10/10 [==============================] - 0s 25ms/step - loss: 0.0262 - accuracy: 1.0000 - val_loss: 0.0177 - val_accuracy: 1.0000\n",
      "Epoch 36/100\n",
      "10/10 [==============================] - 0s 25ms/step - loss: 0.0197 - accuracy: 0.9969 - val_loss: 0.0114 - val_accuracy: 1.0000\n",
      "Epoch 37/100\n",
      "10/10 [==============================] - 0s 25ms/step - loss: 0.0428 - accuracy: 0.9812 - val_loss: 0.0171 - val_accuracy: 1.0000\n",
      "Epoch 38/100\n",
      "10/10 [==============================] - 0s 25ms/step - loss: 0.0241 - accuracy: 0.9969 - val_loss: 0.0212 - val_accuracy: 1.0000\n",
      "Epoch 39/100\n",
      "10/10 [==============================] - 0s 25ms/step - loss: 0.0209 - accuracy: 0.9969 - val_loss: 0.0221 - val_accuracy: 1.0000\n",
      "Epoch 40/100\n",
      "10/10 [==============================] - 0s 25ms/step - loss: 0.0274 - accuracy: 1.0000 - val_loss: 0.0281 - val_accuracy: 0.9875\n",
      "Epoch 41/100\n",
      "10/10 [==============================] - 0s 25ms/step - loss: 0.0345 - accuracy: 0.9906 - val_loss: 0.0351 - val_accuracy: 0.9875\n",
      "Epoch 42/100\n",
      "10/10 [==============================] - 0s 25ms/step - loss: 0.0223 - accuracy: 1.0000 - val_loss: 0.0373 - val_accuracy: 0.9875\n",
      "Epoch 43/100\n",
      "10/10 [==============================] - 0s 25ms/step - loss: 0.0239 - accuracy: 1.0000 - val_loss: 0.0186 - val_accuracy: 1.0000\n",
      "Epoch 44/100\n",
      "10/10 [==============================] - 0s 25ms/step - loss: 0.0189 - accuracy: 1.0000 - val_loss: 0.0103 - val_accuracy: 1.0000\n",
      "Epoch 45/100\n",
      "10/10 [==============================] - 0s 25ms/step - loss: 0.0157 - accuracy: 1.0000 - val_loss: 0.0102 - val_accuracy: 1.0000\n",
      "Epoch 46/100\n",
      "10/10 [==============================] - 0s 25ms/step - loss: 0.0138 - accuracy: 1.0000 - val_loss: 0.0102 - val_accuracy: 1.0000\n",
      "Epoch 47/100\n",
      "10/10 [==============================] - 0s 25ms/step - loss: 0.0114 - accuracy: 1.0000 - val_loss: 0.0083 - val_accuracy: 1.0000\n",
      "Epoch 48/100\n",
      "10/10 [==============================] - 0s 25ms/step - loss: 0.0094 - accuracy: 1.0000 - val_loss: 0.0088 - val_accuracy: 1.0000\n",
      "Epoch 49/100\n",
      "10/10 [==============================] - 0s 25ms/step - loss: 0.0107 - accuracy: 1.0000 - val_loss: 0.0098 - val_accuracy: 1.0000\n",
      "Epoch 50/100\n",
      "10/10 [==============================] - 0s 25ms/step - loss: 0.0154 - accuracy: 1.0000 - val_loss: 0.0089 - val_accuracy: 1.0000\n",
      "Epoch 51/100\n",
      "10/10 [==============================] - 0s 25ms/step - loss: 0.0147 - accuracy: 1.0000 - val_loss: 0.0267 - val_accuracy: 1.0000\n",
      "Epoch 52/100\n",
      "10/10 [==============================] - 0s 25ms/step - loss: 0.0256 - accuracy: 1.0000 - val_loss: 0.0080 - val_accuracy: 1.0000\n",
      "Epoch 53/100\n",
      "10/10 [==============================] - 0s 25ms/step - loss: 0.0091 - accuracy: 1.0000 - val_loss: 0.0097 - val_accuracy: 1.0000\n",
      "Epoch 54/100\n",
      "10/10 [==============================] - 0s 25ms/step - loss: 0.0105 - accuracy: 1.0000 - val_loss: 0.0050 - val_accuracy: 1.0000\n",
      "Epoch 55/100\n",
      "10/10 [==============================] - 0s 25ms/step - loss: 0.0084 - accuracy: 1.0000 - val_loss: 0.0097 - val_accuracy: 1.0000\n",
      "Epoch 56/100\n",
      "10/10 [==============================] - 0s 25ms/step - loss: 0.0080 - accuracy: 1.0000 - val_loss: 0.0095 - val_accuracy: 1.0000\n",
      "Epoch 57/100\n",
      "10/10 [==============================] - 0s 25ms/step - loss: 0.0100 - accuracy: 1.0000 - val_loss: 0.0168 - val_accuracy: 1.0000\n",
      "Epoch 58/100\n",
      "10/10 [==============================] - 0s 25ms/step - loss: 0.0070 - accuracy: 1.0000 - val_loss: 0.0074 - val_accuracy: 1.0000\n",
      "Epoch 59/100\n",
      "10/10 [==============================] - 0s 25ms/step - loss: 0.0059 - accuracy: 1.0000 - val_loss: 0.0084 - val_accuracy: 1.0000\n",
      "Epoch 60/100\n",
      "10/10 [==============================] - 0s 25ms/step - loss: 0.0063 - accuracy: 1.0000 - val_loss: 0.0080 - val_accuracy: 1.0000\n",
      "Epoch 61/100\n",
      "10/10 [==============================] - 0s 25ms/step - loss: 0.0054 - accuracy: 1.0000 - val_loss: 0.0060 - val_accuracy: 1.0000\n",
      "Epoch 62/100\n",
      "10/10 [==============================] - 0s 25ms/step - loss: 0.0048 - accuracy: 1.0000 - val_loss: 0.0064 - val_accuracy: 1.0000\n",
      "Epoch 63/100\n",
      "10/10 [==============================] - 0s 25ms/step - loss: 0.0041 - accuracy: 1.0000 - val_loss: 0.0070 - val_accuracy: 1.0000\n",
      "Epoch 64/100\n",
      "10/10 [==============================] - 0s 25ms/step - loss: 0.0039 - accuracy: 1.0000 - val_loss: 0.0062 - val_accuracy: 1.0000\n",
      "Epoch 65/100\n",
      "10/10 [==============================] - 0s 25ms/step - loss: 0.0035 - accuracy: 1.0000 - val_loss: 0.0060 - val_accuracy: 1.0000\n",
      "Epoch 66/100\n",
      "10/10 [==============================] - 0s 25ms/step - loss: 0.0032 - accuracy: 1.0000 - val_loss: 0.0058 - val_accuracy: 1.0000\n",
      "Epoch 67/100\n",
      "10/10 [==============================] - 0s 25ms/step - loss: 0.0050 - accuracy: 1.0000 - val_loss: 0.0114 - val_accuracy: 1.0000\n",
      "Epoch 68/100\n",
      "10/10 [==============================] - 0s 24ms/step - loss: 0.0066 - accuracy: 1.0000 - val_loss: 0.0118 - val_accuracy: 1.0000\n",
      "Epoch 69/100\n",
      "10/10 [==============================] - 0s 25ms/step - loss: 0.0052 - accuracy: 1.0000 - val_loss: 0.0103 - val_accuracy: 1.0000\n",
      "Epoch 70/100\n",
      "10/10 [==============================] - 0s 25ms/step - loss: 0.0179 - accuracy: 1.0000 - val_loss: 0.0174 - val_accuracy: 1.0000\n",
      "Epoch 71/100\n",
      "10/10 [==============================] - 0s 25ms/step - loss: 0.0117 - accuracy: 1.0000 - val_loss: 0.0076 - val_accuracy: 1.0000\n",
      "Epoch 72/100\n",
      "10/10 [==============================] - 0s 25ms/step - loss: 0.0067 - accuracy: 1.0000 - val_loss: 0.0056 - val_accuracy: 1.0000\n",
      "Epoch 73/100\n",
      "10/10 [==============================] - 0s 25ms/step - loss: 0.0064 - accuracy: 1.0000 - val_loss: 0.0350 - val_accuracy: 0.9875\n",
      "Epoch 74/100\n",
      "10/10 [==============================] - 0s 25ms/step - loss: 0.0048 - accuracy: 1.0000 - val_loss: 0.0206 - val_accuracy: 1.0000\n",
      "Epoch 75/100\n",
      "10/10 [==============================] - 0s 25ms/step - loss: 0.0078 - accuracy: 0.9969 - val_loss: 0.0105 - val_accuracy: 1.0000\n",
      "Epoch 76/100\n",
      "10/10 [==============================] - 0s 25ms/step - loss: 0.0168 - accuracy: 0.9969 - val_loss: 0.0277 - val_accuracy: 0.9875\n",
      "Epoch 77/100\n",
      "10/10 [==============================] - 0s 25ms/step - loss: 0.0210 - accuracy: 0.9969 - val_loss: 0.0083 - val_accuracy: 1.0000\n",
      "Epoch 78/100\n",
      "10/10 [==============================] - 0s 25ms/step - loss: 0.0067 - accuracy: 1.0000 - val_loss: 0.0069 - val_accuracy: 1.0000\n",
      "Epoch 79/100\n",
      "10/10 [==============================] - 0s 25ms/step - loss: 0.0052 - accuracy: 1.0000 - val_loss: 0.0061 - val_accuracy: 1.0000\n",
      "Epoch 80/100\n",
      "10/10 [==============================] - 0s 25ms/step - loss: 0.0044 - accuracy: 1.0000 - val_loss: 0.0119 - val_accuracy: 1.0000\n",
      "Epoch 81/100\n",
      "10/10 [==============================] - 0s 25ms/step - loss: 0.0039 - accuracy: 1.0000 - val_loss: 0.0037 - val_accuracy: 1.0000\n",
      "Epoch 82/100\n",
      "10/10 [==============================] - 0s 25ms/step - loss: 0.0033 - accuracy: 1.0000 - val_loss: 0.0035 - val_accuracy: 1.0000\n",
      "Epoch 83/100\n",
      "10/10 [==============================] - 0s 25ms/step - loss: 0.0030 - accuracy: 1.0000 - val_loss: 0.0068 - val_accuracy: 1.0000\n",
      "Epoch 84/100\n",
      "10/10 [==============================] - 0s 25ms/step - loss: 0.0028 - accuracy: 1.0000 - val_loss: 0.0053 - val_accuracy: 1.0000\n",
      "Epoch 85/100\n",
      "10/10 [==============================] - 0s 25ms/step - loss: 0.0026 - accuracy: 1.0000 - val_loss: 0.0044 - val_accuracy: 1.0000\n",
      "Epoch 86/100\n",
      "10/10 [==============================] - 0s 24ms/step - loss: 0.0025 - accuracy: 1.0000 - val_loss: 0.0043 - val_accuracy: 1.0000\n",
      "Epoch 87/100\n",
      "10/10 [==============================] - 0s 25ms/step - loss: 0.0024 - accuracy: 1.0000 - val_loss: 0.0049 - val_accuracy: 1.0000\n",
      "Epoch 88/100\n",
      "10/10 [==============================] - 0s 25ms/step - loss: 0.0023 - accuracy: 1.0000 - val_loss: 0.0047 - val_accuracy: 1.0000\n",
      "Epoch 89/100\n",
      "10/10 [==============================] - 0s 25ms/step - loss: 0.0022 - accuracy: 1.0000 - val_loss: 0.0054 - val_accuracy: 1.0000\n",
      "Epoch 90/100\n",
      "10/10 [==============================] - 0s 25ms/step - loss: 0.0021 - accuracy: 1.0000 - val_loss: 0.0053 - val_accuracy: 1.0000\n",
      "Epoch 91/100\n",
      "10/10 [==============================] - 0s 25ms/step - loss: 0.0020 - accuracy: 1.0000 - val_loss: 0.0050 - val_accuracy: 1.0000\n",
      "Epoch 92/100\n",
      "10/10 [==============================] - 0s 24ms/step - loss: 0.0020 - accuracy: 1.0000 - val_loss: 0.0054 - val_accuracy: 1.0000\n",
      "Epoch 93/100\n",
      "10/10 [==============================] - 0s 24ms/step - loss: 0.0019 - accuracy: 1.0000 - val_loss: 0.0054 - val_accuracy: 1.0000\n",
      "Epoch 94/100\n",
      "10/10 [==============================] - 0s 24ms/step - loss: 0.0018 - accuracy: 1.0000 - val_loss: 0.0051 - val_accuracy: 1.0000\n",
      "Epoch 95/100\n",
      "10/10 [==============================] - 0s 25ms/step - loss: 0.0018 - accuracy: 1.0000 - val_loss: 0.0051 - val_accuracy: 1.0000\n",
      "Epoch 96/100\n",
      "10/10 [==============================] - 0s 25ms/step - loss: 0.0017 - accuracy: 1.0000 - val_loss: 0.0058 - val_accuracy: 1.0000\n",
      "Epoch 97/100\n",
      "10/10 [==============================] - 0s 25ms/step - loss: 0.0017 - accuracy: 1.0000 - val_loss: 0.0056 - val_accuracy: 1.0000\n",
      "Epoch 98/100\n",
      "10/10 [==============================] - 0s 24ms/step - loss: 0.0016 - accuracy: 1.0000 - val_loss: 0.0054 - val_accuracy: 1.0000\n",
      "Epoch 99/100\n",
      "10/10 [==============================] - 0s 25ms/step - loss: 0.0016 - accuracy: 1.0000 - val_loss: 0.0057 - val_accuracy: 1.0000\n",
      "Epoch 100/100\n",
      "10/10 [==============================] - 0s 25ms/step - loss: 0.0015 - accuracy: 1.0000 - val_loss: 0.0055 - val_accuracy: 1.0000\n"
     ]
    }
   ],
   "metadata": {}
  },
  {
   "cell_type": "code",
   "execution_count": 13,
   "source": [
    "import numpy as np\r\n",
    "import tensorflow as tf\r\n",
    "index = 80\r\n",
    "\r\n",
    "testx = np.asarray([xtrain[index]])\r\n",
    "testy = ytrain[index]\r\n",
    "\r\n",
    "print(\"NO.%d Predict Result is Class \" % index, end = '')\r\n",
    "print(tf.math.argmax(model.predict(testx)[0]).numpy())\r\n",
    "\r\n",
    "print(\"Compare with true result. The true result is %d\" % int(testy))"
   ],
   "outputs": [
    {
     "output_type": "stream",
     "name": "stdout",
     "text": [
      "NO.80 Predict Result is Class 1\n",
      "Compare with true result. The true result is 1\n"
     ]
    }
   ],
   "metadata": {}
  },
  {
   "cell_type": "code",
   "execution_count": 14,
   "source": [
    "modelDf = modelDf.append(trainDf)\r\n",
    "tb_md.OutPutModelAndTrainList(model, modelDf)"
   ],
   "outputs": [],
   "metadata": {}
  }
 ],
 "metadata": {
  "kernelspec": {
   "name": "python3",
   "display_name": "Python 3.8.11 64-bit ('tb_py': conda)"
  },
  "language_info": {
   "codemirror_mode": {
    "name": "ipython",
    "version": 3
   },
   "file_extension": ".py",
   "mimetype": "text/x-python",
   "name": "python",
   "nbconvert_exporter": "python",
   "pygments_lexer": "ipython3",
   "version": "3.8.11"
  },
  "interpreter": {
   "hash": "6d64c901fabb8f42e58faa6211fbce25933580340e108fda67530a13a3b377aa"
  }
 },
 "nbformat": 4,
 "nbformat_minor": 5
}