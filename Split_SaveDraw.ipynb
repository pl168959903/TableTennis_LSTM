{
 "cells": [
  {
   "cell_type": "code",
   "execution_count": 1,
   "source": [
    "from TB_Library import TB_Split as tb_sp\r\n",
    "from TB_Library import TB_Data as tb_dt\r\n",
    "from TB_Library import TB_Draw as tb_dw"
   ],
   "outputs": [],
   "metadata": {}
  },
  {
   "cell_type": "code",
   "execution_count": 2,
   "source": [
    "trainDataRootPath = './train_data/'\r\n",
    "validDataRootPath = './valid_data/'"
   ],
   "outputs": [],
   "metadata": {}
  },
  {
   "cell_type": "code",
   "execution_count": 3,
   "source": [
    "trainDataPath = tb_dt.GetPathAndClassDfFromRoot(trainDataRootPath)"
   ],
   "outputs": [],
   "metadata": {}
  },
  {
   "cell_type": "code",
   "execution_count": 4,
   "source": [
    "trainDataList, paramDf = tb_sp.SplitDataFromPathDf(trainDataPath, 10)"
   ],
   "outputs": [
    {
     "output_type": "stream",
     "name": "stderr",
     "text": [
      "100%|██████████| 41/41 [00:04<00:00,  9.20it/s]\n"
     ]
    }
   ],
   "metadata": {}
  },
  {
   "cell_type": "code",
   "execution_count": 5,
   "source": [
    "tb_dw.SaveImagePathRoot(trainDataList, paramDf)"
   ],
   "outputs": [
    {
     "output_type": "stream",
     "name": "stderr",
     "text": [
      " 10%|▉         | 32/328 [00:05<00:54,  5.41it/s]"
     ]
    }
   ],
   "metadata": {}
  }
 ],
 "metadata": {
  "kernelspec": {
   "name": "python3",
   "display_name": "Python 3.8.11 64-bit ('tb_py': conda)"
  },
  "language_info": {
   "codemirror_mode": {
    "name": "ipython",
    "version": 3
   },
   "file_extension": ".py",
   "mimetype": "text/x-python",
   "name": "python",
   "nbconvert_exporter": "python",
   "pygments_lexer": "ipython3",
   "version": "3.8.11"
  },
  "interpreter": {
   "hash": "6d64c901fabb8f42e58faa6211fbce25933580340e108fda67530a13a3b377aa"
  }
 },
 "nbformat": 4,
 "nbformat_minor": 5
}